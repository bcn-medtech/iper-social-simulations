{
 "cells": [
  {
   "cell_type": "code",
   "execution_count": 79,
   "metadata": {},
   "outputs": [],
   "source": [
    "import pandas as pd\n",
    "import geopandas as gpd\n",
    "from geopandas import GeoDataFrame, read_file\n",
    "from shapely.geometry import Point, LineString, Polygon\n",
    "import movingpandas as mpd\n",
    "from fiona.crs import from_epsg\n",
    "import pygtfs"
   ]
  },
  {
   "cell_type": "code",
   "execution_count": 137,
   "metadata": {},
   "outputs": [
    {
     "name": "stderr",
     "output_type": "stream",
     "text": [
      "/Users/eudald/opt/miniconda3/envs/iper/lib/python3.8/site-packages/IPython/core/interactiveshell.py:3146: DtypeWarning: Columns (3) have mixed types.Specify dtype option on import or set low_memory=False.\n",
      "  has_raised = await self.run_ast_nodes(code_ast.body, cell_name,\n"
     ]
    }
   ],
   "source": [
    "#https://github.com/vta/GTFS-Pandas-Analysis/blob/master/gtfs_simple_analyzer.ipynb\n",
    "trips = pd.read_csv('../../GTFS/bus_metro/trips.txt')\n",
    "routes = pd.read_csv('../../GTFS/bus_metro/routes.txt')\n",
    "st = pd.read_csv(\"../../GTFS/bus_metro/stop_times.txt\")\n",
    "stops = pd.read_csv(\"../../GTFS/bus_metro/stops.txt\")"
   ]
  },
  {
   "cell_type": "code",
   "execution_count": 80,
   "metadata": {
    "collapsed": true
   },
   "outputs": [
    {
     "name": "stdout",
     "output_type": "stream",
     "text": [
      "Loading GTFS data for <class 'pygtfs.gtfs_entities.Agency'>:\n",
      "Loading GTFS data for <class 'pygtfs.gtfs_entities.Stop'>:\n",
      "Loading GTFS data for <class 'pygtfs.gtfs_entities.Route'>:\n",
      "Loading GTFS data for <class 'pygtfs.gtfs_entities.Trip'>:\n",
      "Loading GTFS data for <class 'pygtfs.gtfs_entities.StopTime'>:\n",
      "Loading GTFS data for <class 'pygtfs.gtfs_entities.Service'>:\n",
      "Loading GTFS data for <class 'pygtfs.gtfs_entities.ServiceException'>:\n",
      "Loading GTFS data for <class 'pygtfs.gtfs_entities.Fare'>:\n",
      "Loading GTFS data for <class 'pygtfs.gtfs_entities.FareRule'>:\n",
      "Loading GTFS data for <class 'pygtfs.gtfs_entities.ShapePoint'>:\n",
      "Loading GTFS data for <class 'pygtfs.gtfs_entities.Frequency'>:\n",
      "Loading GTFS data for <class 'pygtfs.gtfs_entities.Transfer'>:\n",
      "Loading GTFS data for <class 'pygtfs.gtfs_entities.FeedInfo'>:\n",
      "Loading GTFS data for <class 'pygtfs.gtfs_entities.Translation'>:\n",
      "1 record read for <class 'pygtfs.gtfs_entities.Agency'>.\n",
      "3243 records read for <class 'pygtfs.gtfs_entities.Stop'>.\n",
      "111 records read for <class 'pygtfs.gtfs_entities.Route'>.\n",
      ".........47971 records read for <class 'pygtfs.gtfs_entities.Trip'>.\n",
      "...........................................................................................................................................................................................................................................1178784 records read for <class 'pygtfs.gtfs_entities.StopTime'>.\n",
      "2 records read for <class 'pygtfs.gtfs_entities.Service'>.\n",
      "....23681 records read for <class 'pygtfs.gtfs_entities.ServiceException'>.\n",
      "....................103745 records read for <class 'pygtfs.gtfs_entities.ShapePoint'>.\n",
      "4 records read for <class 'pygtfs.gtfs_entities.Frequency'>.\n",
      "60 records read for <class 'pygtfs.gtfs_entities.Transfer'>.\n",
      "1 record read for <class 'pygtfs.gtfs_entities.FeedInfo'>.\n",
      "Complete.\n"
     ]
    },
    {
     "data": {
      "text/plain": [
       "<pygtfs.schedule.Schedule at 0x7f7fe4e0b2b0>"
      ]
     },
     "execution_count": 80,
     "metadata": {},
     "output_type": "execute_result"
    }
   ],
   "source": [
    "#https://pygtfs.readthedocs.io/en/latest/schedule.html#module-pygtfs.schedule\n",
    "sched = pygtfs.Schedule(\":memory:\")\n",
    "pygtfs.append_feed(sched, \"../../GTFS/bus_metro\")"
   ]
  },
  {
   "cell_type": "code",
   "execution_count": 154,
   "metadata": {},
   "outputs": [
    {
     "data": {
      "text/html": [
       "<div>\n",
       "<style scoped>\n",
       "    .dataframe tbody tr th:only-of-type {\n",
       "        vertical-align: middle;\n",
       "    }\n",
       "\n",
       "    .dataframe tbody tr th {\n",
       "        vertical-align: top;\n",
       "    }\n",
       "\n",
       "    .dataframe thead th {\n",
       "        text-align: right;\n",
       "    }\n",
       "</style>\n",
       "<table border=\"1\" class=\"dataframe\">\n",
       "  <thead>\n",
       "    <tr style=\"text-align: right;\">\n",
       "      <th></th>\n",
       "      <th>trip_id</th>\n",
       "      <th>route_id</th>\n",
       "      <th>stop_id</th>\n",
       "      <th>arrival_time</th>\n",
       "      <th>stop_sequence</th>\n",
       "      <th>stop_lat</th>\n",
       "      <th>stop_lon</th>\n",
       "    </tr>\n",
       "  </thead>\n",
       "  <tbody>\n",
       "    <tr>\n",
       "      <th>9365</th>\n",
       "      <td>1.101.2384461</td>\n",
       "      <td>1.101.1</td>\n",
       "      <td>1.954</td>\n",
       "      <td>05:06:28</td>\n",
       "      <td>1</td>\n",
       "      <td>41.342976</td>\n",
       "      <td>2.144964</td>\n",
       "    </tr>\n",
       "    <tr>\n",
       "      <th>8780</th>\n",
       "      <td>1.101.2384461</td>\n",
       "      <td>1.101.1</td>\n",
       "      <td>1.956</td>\n",
       "      <td>05:08:38</td>\n",
       "      <td>2</td>\n",
       "      <td>41.356161</td>\n",
       "      <td>2.141804</td>\n",
       "    </tr>\n",
       "    <tr>\n",
       "      <th>8195</th>\n",
       "      <td>1.101.2384461</td>\n",
       "      <td>1.101.1</td>\n",
       "      <td>1.957</td>\n",
       "      <td>05:10:08</td>\n",
       "      <td>3</td>\n",
       "      <td>41.361099</td>\n",
       "      <td>2.138229</td>\n",
       "    </tr>\n",
       "    <tr>\n",
       "      <th>7610</th>\n",
       "      <td>1.101.2384461</td>\n",
       "      <td>1.101.1</td>\n",
       "      <td>1.958</td>\n",
       "      <td>05:11:37</td>\n",
       "      <td>4</td>\n",
       "      <td>41.363137</td>\n",
       "      <td>2.132315</td>\n",
       "    </tr>\n",
       "    <tr>\n",
       "      <th>7025</th>\n",
       "      <td>1.101.2384461</td>\n",
       "      <td>1.101.1</td>\n",
       "      <td>1.959</td>\n",
       "      <td>05:13:13</td>\n",
       "      <td>5</td>\n",
       "      <td>41.361354</td>\n",
       "      <td>2.124100</td>\n",
       "    </tr>\n",
       "    <tr>\n",
       "      <th>...</th>\n",
       "      <td>...</td>\n",
       "      <td>...</td>\n",
       "      <td>...</td>\n",
       "      <td>...</td>\n",
       "      <td>...</td>\n",
       "      <td>...</td>\n",
       "      <td>...</td>\n",
       "    </tr>\n",
       "    <tr>\n",
       "      <th>793359</th>\n",
       "      <td>2.97.25.483751.2874</td>\n",
       "      <td>2.97.2874</td>\n",
       "      <td>2.885.687841</td>\n",
       "      <td>NaN</td>\n",
       "      <td>8</td>\n",
       "      <td>41.452107</td>\n",
       "      <td>2.188738</td>\n",
       "    </tr>\n",
       "    <tr>\n",
       "      <th>793720</th>\n",
       "      <td>2.97.25.483751.2874</td>\n",
       "      <td>2.97.2874</td>\n",
       "      <td>2.1778.689940</td>\n",
       "      <td>NaN</td>\n",
       "      <td>9</td>\n",
       "      <td>41.448149</td>\n",
       "      <td>2.187808</td>\n",
       "    </tr>\n",
       "    <tr>\n",
       "      <th>794081</th>\n",
       "      <td>2.97.25.483751.2874</td>\n",
       "      <td>2.97.2874</td>\n",
       "      <td>2.1240.675369</td>\n",
       "      <td>NaN</td>\n",
       "      <td>10</td>\n",
       "      <td>41.443041</td>\n",
       "      <td>2.186210</td>\n",
       "    </tr>\n",
       "    <tr>\n",
       "      <th>794442</th>\n",
       "      <td>2.97.25.483751.2874</td>\n",
       "      <td>2.97.2874</td>\n",
       "      <td>2.432.675365</td>\n",
       "      <td>NaN</td>\n",
       "      <td>11</td>\n",
       "      <td>41.435630</td>\n",
       "      <td>2.183798</td>\n",
       "    </tr>\n",
       "    <tr>\n",
       "      <th>849739</th>\n",
       "      <td>2.97.25.483751.2874</td>\n",
       "      <td>2.97.2874</td>\n",
       "      <td>2.872.675385</td>\n",
       "      <td>06:57:00</td>\n",
       "      <td>12</td>\n",
       "      <td>41.431628</td>\n",
       "      <td>2.183254</td>\n",
       "    </tr>\n",
       "  </tbody>\n",
       "</table>\n",
       "<p>916640 rows × 7 columns</p>\n",
       "</div>"
      ],
      "text/plain": [
       "                    trip_id   route_id        stop_id arrival_time  \\\n",
       "9365          1.101.2384461    1.101.1          1.954     05:06:28   \n",
       "8780          1.101.2384461    1.101.1          1.956     05:08:38   \n",
       "8195          1.101.2384461    1.101.1          1.957     05:10:08   \n",
       "7610          1.101.2384461    1.101.1          1.958     05:11:37   \n",
       "7025          1.101.2384461    1.101.1          1.959     05:13:13   \n",
       "...                     ...        ...            ...          ...   \n",
       "793359  2.97.25.483751.2874  2.97.2874   2.885.687841          NaN   \n",
       "793720  2.97.25.483751.2874  2.97.2874  2.1778.689940          NaN   \n",
       "794081  2.97.25.483751.2874  2.97.2874  2.1240.675369          NaN   \n",
       "794442  2.97.25.483751.2874  2.97.2874   2.432.675365          NaN   \n",
       "849739  2.97.25.483751.2874  2.97.2874   2.872.675385     06:57:00   \n",
       "\n",
       "        stop_sequence   stop_lat  stop_lon  \n",
       "9365                1  41.342976  2.144964  \n",
       "8780                2  41.356161  2.141804  \n",
       "8195                3  41.361099  2.138229  \n",
       "7610                4  41.363137  2.132315  \n",
       "7025                5  41.361354  2.124100  \n",
       "...               ...        ...       ...  \n",
       "793359              8  41.452107  2.188738  \n",
       "793720              9  41.448149  2.187808  \n",
       "794081             10  41.443041  2.186210  \n",
       "794442             11  41.435630  2.183798  \n",
       "849739             12  41.431628  2.183254  \n",
       "\n",
       "[916640 rows x 7 columns]"
      ]
     },
     "execution_count": 154,
     "metadata": {},
     "output_type": "execute_result"
    }
   ],
   "source": [
    "stops_by_route = pd.merge(pd.merge(trips[['trip_id','route_id']],st[['trip_id','stop_id','arrival_time','stop_sequence']]),stops[['stop_id','stop_lat','stop_lon']])\n",
    "stops_by_route.sort_values(by=['trip_id', 'stop_sequence'])"
   ]
  },
  {
   "cell_type": "code",
   "execution_count": 174,
   "metadata": {},
   "outputs": [],
   "source": [
    "gp = stops_by_route.groupby('trip_id')"
   ]
  },
  {
   "cell_type": "code",
   "execution_count": 166,
   "metadata": {
    "collapsed": true
   },
   "outputs": [
    {
     "name": "stdout",
     "output_type": "stream",
     "text": [
      "1.101.2384461\n",
      "2941    1.101.2384461\n",
      "4111    1.101.2384461\n",
      "5281    1.101.2384461\n",
      "7025    1.101.2384461\n",
      "7610    1.101.2384461\n",
      "8195    1.101.2384461\n",
      "8780    1.101.2384461\n",
      "9365    1.101.2384461\n",
      "Name: trip_id, dtype: object\n"
     ]
    }
   ],
   "source": [
    "for name, group in gp:\n",
    "    print(name)\n",
    "    print(group['trip_id'])\n",
    "    break\n"
   ]
  },
  {
   "cell_type": "code",
   "execution_count": 173,
   "metadata": {
    "collapsed": true
   },
   "outputs": [
    {
     "data": {
      "text/html": [
       "<div>\n",
       "<style scoped>\n",
       "    .dataframe tbody tr th:only-of-type {\n",
       "        vertical-align: middle;\n",
       "    }\n",
       "\n",
       "    .dataframe tbody tr th {\n",
       "        vertical-align: top;\n",
       "    }\n",
       "\n",
       "    .dataframe thead th {\n",
       "        text-align: right;\n",
       "    }\n",
       "</style>\n",
       "<table border=\"1\" class=\"dataframe\">\n",
       "  <thead>\n",
       "    <tr style=\"text-align: right;\">\n",
       "      <th></th>\n",
       "      <th>trip_id</th>\n",
       "      <th>route_id</th>\n",
       "      <th>stop_id</th>\n",
       "      <th>arrival_time</th>\n",
       "      <th>stop_sequence</th>\n",
       "      <th>stop_lat</th>\n",
       "      <th>stop_lon</th>\n",
       "    </tr>\n",
       "  </thead>\n",
       "  <tbody>\n",
       "    <tr>\n",
       "      <th>2982</th>\n",
       "      <td>1.101.2384487</td>\n",
       "      <td>1.101.1</td>\n",
       "      <td>1.914</td>\n",
       "      <td>05:15:40</td>\n",
       "      <td>3</td>\n",
       "      <td>41.360894</td>\n",
       "      <td>2.117993</td>\n",
       "    </tr>\n",
       "    <tr>\n",
       "      <th>4152</th>\n",
       "      <td>1.101.2384487</td>\n",
       "      <td>1.101.1</td>\n",
       "      <td>1.915</td>\n",
       "      <td>05:13:50</td>\n",
       "      <td>2</td>\n",
       "      <td>41.368223</td>\n",
       "      <td>2.115756</td>\n",
       "    </tr>\n",
       "    <tr>\n",
       "      <th>5322</th>\n",
       "      <td>1.101.2384487</td>\n",
       "      <td>1.101.1</td>\n",
       "      <td>1.916</td>\n",
       "      <td>05:12:07</td>\n",
       "      <td>1</td>\n",
       "      <td>41.376056</td>\n",
       "      <td>2.118397</td>\n",
       "    </tr>\n",
       "    <tr>\n",
       "      <th>7048</th>\n",
       "      <td>1.101.2384487</td>\n",
       "      <td>1.101.1</td>\n",
       "      <td>1.959</td>\n",
       "      <td>05:17:02</td>\n",
       "      <td>4</td>\n",
       "      <td>41.361354</td>\n",
       "      <td>2.124100</td>\n",
       "    </tr>\n",
       "    <tr>\n",
       "      <th>7633</th>\n",
       "      <td>1.101.2384487</td>\n",
       "      <td>1.101.1</td>\n",
       "      <td>1.958</td>\n",
       "      <td>05:18:35</td>\n",
       "      <td>5</td>\n",
       "      <td>41.363137</td>\n",
       "      <td>2.132315</td>\n",
       "    </tr>\n",
       "    <tr>\n",
       "      <th>8218</th>\n",
       "      <td>1.101.2384487</td>\n",
       "      <td>1.101.1</td>\n",
       "      <td>1.957</td>\n",
       "      <td>05:20:01</td>\n",
       "      <td>6</td>\n",
       "      <td>41.361099</td>\n",
       "      <td>2.138229</td>\n",
       "    </tr>\n",
       "    <tr>\n",
       "      <th>8803</th>\n",
       "      <td>1.101.2384487</td>\n",
       "      <td>1.101.1</td>\n",
       "      <td>1.956</td>\n",
       "      <td>05:21:28</td>\n",
       "      <td>7</td>\n",
       "      <td>41.356161</td>\n",
       "      <td>2.141804</td>\n",
       "    </tr>\n",
       "    <tr>\n",
       "      <th>9388</th>\n",
       "      <td>1.101.2384487</td>\n",
       "      <td>1.101.1</td>\n",
       "      <td>1.954</td>\n",
       "      <td>05:24:14</td>\n",
       "      <td>8</td>\n",
       "      <td>41.342976</td>\n",
       "      <td>2.144964</td>\n",
       "    </tr>\n",
       "  </tbody>\n",
       "</table>\n",
       "</div>"
      ],
      "text/plain": [
       "            trip_id route_id stop_id arrival_time  stop_sequence   stop_lat  \\\n",
       "2982  1.101.2384487  1.101.1   1.914     05:15:40              3  41.360894   \n",
       "4152  1.101.2384487  1.101.1   1.915     05:13:50              2  41.368223   \n",
       "5322  1.101.2384487  1.101.1   1.916     05:12:07              1  41.376056   \n",
       "7048  1.101.2384487  1.101.1   1.959     05:17:02              4  41.361354   \n",
       "7633  1.101.2384487  1.101.1   1.958     05:18:35              5  41.363137   \n",
       "8218  1.101.2384487  1.101.1   1.957     05:20:01              6  41.361099   \n",
       "8803  1.101.2384487  1.101.1   1.956     05:21:28              7  41.356161   \n",
       "9388  1.101.2384487  1.101.1   1.954     05:24:14              8  41.342976   \n",
       "\n",
       "      stop_lon  \n",
       "2982  2.117993  \n",
       "4152  2.115756  \n",
       "5322  2.118397  \n",
       "7048  2.124100  \n",
       "7633  2.132315  \n",
       "8218  2.138229  \n",
       "8803  2.141804  \n",
       "9388  2.144964  "
      ]
     },
     "execution_count": 173,
     "metadata": {},
     "output_type": "execute_result"
    }
   ],
   "source": [
    "gp.get_group(name='1.101.2384487')"
   ]
  },
  {
   "cell_type": "markdown",
   "metadata": {},
   "source": [
    "# Problems"
   ]
  },
  {
   "cell_type": "markdown",
   "metadata": {},
   "source": [
    "## Missing 47971 --> 37171 (10.000) elements\n",
    "I thing the 10.000 missing trips is due that one of its stations defined in the stops times does not have a related element in stops. Ex: stop_id in st does not exist in stops"
   ]
  },
  {
   "cell_type": "code",
   "execution_count": 158,
   "metadata": {
    "collapsed": true
   },
   "outputs": [
    {
     "data": {
      "text/plain": [
       "47971"
      ]
     },
     "execution_count": 158,
     "metadata": {},
     "output_type": "execute_result"
    }
   ],
   "source": [
    "# len before merging stops\n",
    "stops_by_route = pd.merge(trips[['trip_id','route_id']],st[['trip_id','stop_id','arrival_time','stop_sequence']])\n",
    "len(stops_by_route.groupby('trip_id'))"
   ]
  },
  {
   "cell_type": "code",
   "execution_count": 159,
   "metadata": {
    "collapsed": true
   },
   "outputs": [
    {
     "data": {
      "text/plain": [
       "37171"
      ]
     },
     "execution_count": 159,
     "metadata": {},
     "output_type": "execute_result"
    }
   ],
   "source": [
    "# len after merging stops\n",
    "stops_by_route = pd.merge(pd.merge(trips[['trip_id','route_id']],st[['trip_id','stop_id','arrival_time','stop_sequence']]),stops[['stop_id','stop_lat','stop_lon']])\n",
    "len(stops_by_route.groupby('trip_id'))"
   ]
  },
  {
   "cell_type": "code",
   "execution_count": 160,
   "metadata": {
    "collapsed": true
   },
   "outputs": [
    {
     "data": {
      "text/html": [
       "<div>\n",
       "<style scoped>\n",
       "    .dataframe tbody tr th:only-of-type {\n",
       "        vertical-align: middle;\n",
       "    }\n",
       "\n",
       "    .dataframe tbody tr th {\n",
       "        vertical-align: top;\n",
       "    }\n",
       "\n",
       "    .dataframe thead th {\n",
       "        text-align: right;\n",
       "    }\n",
       "</style>\n",
       "<table border=\"1\" class=\"dataframe\">\n",
       "  <thead>\n",
       "    <tr style=\"text-align: right;\">\n",
       "      <th></th>\n",
       "      <th>stop_id</th>\n",
       "      <th>stop_code</th>\n",
       "      <th>stop_name</th>\n",
       "      <th>stop_lat</th>\n",
       "      <th>stop_lon</th>\n",
       "      <th>stop_url</th>\n",
       "      <th>location_type</th>\n",
       "      <th>parent_station</th>\n",
       "      <th>wheelchair_boarding</th>\n",
       "    </tr>\n",
       "  </thead>\n",
       "  <tbody>\n",
       "  </tbody>\n",
       "</table>\n",
       "</div>"
      ],
      "text/plain": [
       "Empty DataFrame\n",
       "Columns: [stop_id, stop_code, stop_name, stop_lat, stop_lon, stop_url, location_type, parent_station, wheelchair_boarding]\n",
       "Index: []"
      ]
     },
     "execution_count": 160,
     "metadata": {},
     "output_type": "execute_result"
    }
   ],
   "source": [
    "stops.loc[stops['stop_id'] == 1.14]"
   ]
  },
  {
   "cell_type": "code",
   "execution_count": 161,
   "metadata": {
    "collapsed": true
   },
   "outputs": [
    {
     "data": {
      "text/html": [
       "<div>\n",
       "<style scoped>\n",
       "    .dataframe tbody tr th:only-of-type {\n",
       "        vertical-align: middle;\n",
       "    }\n",
       "\n",
       "    .dataframe tbody tr th {\n",
       "        vertical-align: top;\n",
       "    }\n",
       "\n",
       "    .dataframe thead th {\n",
       "        text-align: right;\n",
       "    }\n",
       "</style>\n",
       "<table border=\"1\" class=\"dataframe\">\n",
       "  <thead>\n",
       "    <tr style=\"text-align: right;\">\n",
       "      <th></th>\n",
       "      <th>trip_id</th>\n",
       "      <th>arrival_time</th>\n",
       "      <th>departure_time</th>\n",
       "      <th>stop_id</th>\n",
       "      <th>stop_sequence</th>\n",
       "    </tr>\n",
       "  </thead>\n",
       "  <tbody>\n",
       "    <tr>\n",
       "      <th>0</th>\n",
       "      <td>1.1.2373316</td>\n",
       "      <td>07:32:32</td>\n",
       "      <td>07:32:32</td>\n",
       "      <td>1.14</td>\n",
       "      <td>1</td>\n",
       "    </tr>\n",
       "    <tr>\n",
       "      <th>30</th>\n",
       "      <td>1.1.2373317</td>\n",
       "      <td>17:37:08</td>\n",
       "      <td>17:37:08</td>\n",
       "      <td>1.14</td>\n",
       "      <td>1</td>\n",
       "    </tr>\n",
       "    <tr>\n",
       "      <th>89</th>\n",
       "      <td>1.1.2373318</td>\n",
       "      <td>19:06:52</td>\n",
       "      <td>19:06:52</td>\n",
       "      <td>1.14</td>\n",
       "      <td>30</td>\n",
       "    </tr>\n",
       "    <tr>\n",
       "      <th>90</th>\n",
       "      <td>1.1.2373319</td>\n",
       "      <td>09:05:48</td>\n",
       "      <td>09:05:48</td>\n",
       "      <td>1.14</td>\n",
       "      <td>1</td>\n",
       "    </tr>\n",
       "    <tr>\n",
       "      <th>120</th>\n",
       "      <td>1.1.2373320</td>\n",
       "      <td>16:58:49</td>\n",
       "      <td>16:58:49</td>\n",
       "      <td>1.14</td>\n",
       "      <td>1</td>\n",
       "    </tr>\n",
       "    <tr>\n",
       "      <th>...</th>\n",
       "      <td>...</td>\n",
       "      <td>...</td>\n",
       "      <td>...</td>\n",
       "      <td>...</td>\n",
       "      <td>...</td>\n",
       "    </tr>\n",
       "    <tr>\n",
       "      <th>70864</th>\n",
       "      <td>1.1.2375695</td>\n",
       "      <td>07:28:43</td>\n",
       "      <td>07:28:43</td>\n",
       "      <td>1.14</td>\n",
       "      <td>1</td>\n",
       "    </tr>\n",
       "    <tr>\n",
       "      <th>70894</th>\n",
       "      <td>1.1.2375696</td>\n",
       "      <td>13:19:22</td>\n",
       "      <td>13:19:22</td>\n",
       "      <td>1.14</td>\n",
       "      <td>1</td>\n",
       "    </tr>\n",
       "    <tr>\n",
       "      <th>70924</th>\n",
       "      <td>1.1.2375697</td>\n",
       "      <td>18:31:08</td>\n",
       "      <td>18:31:08</td>\n",
       "      <td>1.14</td>\n",
       "      <td>1</td>\n",
       "    </tr>\n",
       "    <tr>\n",
       "      <th>70954</th>\n",
       "      <td>1.1.2375698</td>\n",
       "      <td>17:53:20</td>\n",
       "      <td>17:53:20</td>\n",
       "      <td>1.14</td>\n",
       "      <td>1</td>\n",
       "    </tr>\n",
       "    <tr>\n",
       "      <th>70984</th>\n",
       "      <td>1.1.2375699</td>\n",
       "      <td>11:42:10</td>\n",
       "      <td>11:42:10</td>\n",
       "      <td>1.14</td>\n",
       "      <td>1</td>\n",
       "    </tr>\n",
       "  </tbody>\n",
       "</table>\n",
       "<p>2357 rows × 5 columns</p>\n",
       "</div>"
      ],
      "text/plain": [
       "           trip_id arrival_time departure_time stop_id  stop_sequence\n",
       "0      1.1.2373316     07:32:32       07:32:32    1.14              1\n",
       "30     1.1.2373317     17:37:08       17:37:08    1.14              1\n",
       "89     1.1.2373318     19:06:52       19:06:52    1.14             30\n",
       "90     1.1.2373319     09:05:48       09:05:48    1.14              1\n",
       "120    1.1.2373320     16:58:49       16:58:49    1.14              1\n",
       "...            ...          ...            ...     ...            ...\n",
       "70864  1.1.2375695     07:28:43       07:28:43    1.14              1\n",
       "70894  1.1.2375696     13:19:22       13:19:22    1.14              1\n",
       "70924  1.1.2375697     18:31:08       18:31:08    1.14              1\n",
       "70954  1.1.2375698     17:53:20       17:53:20    1.14              1\n",
       "70984  1.1.2375699     11:42:10       11:42:10    1.14              1\n",
       "\n",
       "[2357 rows x 5 columns]"
      ]
     },
     "execution_count": 161,
     "metadata": {},
     "output_type": "execute_result"
    }
   ],
   "source": [
    "st.loc[st['stop_id'] == 1.14]"
   ]
  },
  {
   "cell_type": "markdown",
   "metadata": {},
   "source": [
    "## Some stops do not have arrival and departure time\n",
    "Missing some arrival and departure times for several stops form a particular trip. \n",
    "Possible solution interpolate between the times that are defined "
   ]
  },
  {
   "cell_type": "markdown",
   "metadata": {},
   "source": [
    "## Save trajactories as files? and then load them for each instance?"
   ]
  }
 ],
 "metadata": {
  "kernelspec": {
   "display_name": "Python 3",
   "language": "python",
   "name": "python3"
  },
  "language_info": {
   "codemirror_mode": {
    "name": "ipython",
    "version": 3
   },
   "file_extension": ".py",
   "mimetype": "text/x-python",
   "name": "python",
   "nbconvert_exporter": "python",
   "pygments_lexer": "ipython3",
   "version": "3.8.2"
  }
 },
 "nbformat": 4,
 "nbformat_minor": 4
}
